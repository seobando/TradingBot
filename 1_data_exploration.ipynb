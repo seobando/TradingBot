{
  "cells": [
    {
      "cell_type": "markdown",
      "metadata": {
        "id": "view-in-github",
        "colab_type": "text"
      },
      "source": [
        "<a href=\"https://colab.research.google.com/github/seobando/TradingBot/blob/main/1_data_exploration.ipynb\" target=\"_parent\"><img src=\"https://colab.research.google.com/assets/colab-badge.svg\" alt=\"Open In Colab\"/></a>"
      ]
    },
    {
      "cell_type": "code",
      "source": [
        "# Data Load in colab\n",
        "from google.colab import drive\n",
        "drive.mount('/content/drive')"
      ],
      "metadata": {
        "id": "3Ef79sphvTU0",
        "colab": {
          "base_uri": "https://localhost:8080/"
        },
        "outputId": "570f8427-ab98-4849-ade0-d079c35e7526"
      },
      "execution_count": null,
      "outputs": [
        {
          "output_type": "stream",
          "name": "stdout",
          "text": [
            "Mounted at /content/drive\n"
          ]
        }
      ]
    },
    {
      "cell_type": "code",
      "source": [
        "# Change this to point to the folder where you want to save this files\n",
        "%cd /content/drive/MyDrive/1 Formal Training/2 Msc. Ciencia de los datos/Semestre IV/Trader"
      ],
      "metadata": {
        "id": "Bna46WdsvUDM",
        "colab": {
          "base_uri": "https://localhost:8080/"
        },
        "outputId": "b0459dda-1b43-4b4f-a40f-fac536b2c798"
      },
      "execution_count": null,
      "outputs": [
        {
          "output_type": "stream",
          "name": "stdout",
          "text": [
            "/content/drive/MyDrive/1 Formal Training/2 Msc. Ciencia de los datos/Semestre IV/Trader\n"
          ]
        }
      ]
    },
    {
      "cell_type": "code",
      "execution_count": null,
      "metadata": {
        "id": "VNPriyAawD9i"
      },
      "outputs": [],
      "source": [
        "# Required libraries\n",
        "import pandas as pd\n",
        "import seaborn as sn\n",
        "import numpy as np\n",
        "import matplotlib.pyplot as plt"
      ]
    },
    {
      "cell_type": "code",
      "execution_count": null,
      "metadata": {
        "id": "4OD06kCese2c"
      },
      "outputs": [],
      "source": [
        "# Read data, change the path depending to the stock that you download from yahoo finance\n",
        "df = pd.read_csv(\"data/BTC-USD.csv\")\n",
        "df[\"Date\"] = pd.to_datetime(df['Date'])\n",
        "df = df.set_index(\"Date\")"
      ]
    },
    {
      "cell_type": "code",
      "source": [
        "# Main statistics\n",
        "df.describe()"
      ],
      "metadata": {
        "colab": {
          "base_uri": "https://localhost:8080/",
          "height": 300
        },
        "id": "4ti-Y-JFUYlI",
        "outputId": "58e4b084-f10c-49a6-c5d3-7e2eec3cb1c5"
      },
      "execution_count": null,
      "outputs": [
        {
          "output_type": "execute_result",
          "data": {
            "text/html": [
              "\n",
              "  <div id=\"df-ed1a6597-35ef-44c4-9a31-20ab1a765b4c\">\n",
              "    <div class=\"colab-df-container\">\n",
              "      <div>\n",
              "<style scoped>\n",
              "    .dataframe tbody tr th:only-of-type {\n",
              "        vertical-align: middle;\n",
              "    }\n",
              "\n",
              "    .dataframe tbody tr th {\n",
              "        vertical-align: top;\n",
              "    }\n",
              "\n",
              "    .dataframe thead th {\n",
              "        text-align: right;\n",
              "    }\n",
              "</style>\n",
              "<table border=\"1\" class=\"dataframe\">\n",
              "  <thead>\n",
              "    <tr style=\"text-align: right;\">\n",
              "      <th></th>\n",
              "      <th>Open</th>\n",
              "      <th>High</th>\n",
              "      <th>Low</th>\n",
              "      <th>Close</th>\n",
              "      <th>Adj Close</th>\n",
              "      <th>Volume</th>\n",
              "    </tr>\n",
              "  </thead>\n",
              "  <tbody>\n",
              "    <tr>\n",
              "      <th>count</th>\n",
              "      <td>1518.000000</td>\n",
              "      <td>1518.000000</td>\n",
              "      <td>1518.000000</td>\n",
              "      <td>1518.000000</td>\n",
              "      <td>1518.000000</td>\n",
              "      <td>1.518000e+03</td>\n",
              "    </tr>\n",
              "    <tr>\n",
              "      <th>mean</th>\n",
              "      <td>18215.372560</td>\n",
              "      <td>18712.187936</td>\n",
              "      <td>17666.803321</td>\n",
              "      <td>18238.024696</td>\n",
              "      <td>18238.024696</td>\n",
              "      <td>2.520617e+10</td>\n",
              "    </tr>\n",
              "    <tr>\n",
              "      <th>std</th>\n",
              "      <td>17531.410566</td>\n",
              "      <td>18013.538524</td>\n",
              "      <td>16976.481187</td>\n",
              "      <td>17538.465412</td>\n",
              "      <td>17538.465412</td>\n",
              "      <td>2.099226e+10</td>\n",
              "    </tr>\n",
              "    <tr>\n",
              "      <th>min</th>\n",
              "      <td>3236.274658</td>\n",
              "      <td>3275.377930</td>\n",
              "      <td>3191.303467</td>\n",
              "      <td>3236.761719</td>\n",
              "      <td>3236.761719</td>\n",
              "      <td>2.923670e+09</td>\n",
              "    </tr>\n",
              "    <tr>\n",
              "      <th>25%</th>\n",
              "      <td>7187.550171</td>\n",
              "      <td>7324.363403</td>\n",
              "      <td>6948.230102</td>\n",
              "      <td>7189.858277</td>\n",
              "      <td>7189.858277</td>\n",
              "      <td>7.736592e+09</td>\n",
              "    </tr>\n",
              "    <tr>\n",
              "      <th>50%</th>\n",
              "      <td>9523.907226</td>\n",
              "      <td>9700.821778</td>\n",
              "      <td>9316.446289</td>\n",
              "      <td>9525.557129</td>\n",
              "      <td>9525.557129</td>\n",
              "      <td>2.124644e+10</td>\n",
              "    </tr>\n",
              "    <tr>\n",
              "      <th>75%</th>\n",
              "      <td>23213.368652</td>\n",
              "      <td>23965.843262</td>\n",
              "      <td>22690.849609</td>\n",
              "      <td>23418.307617</td>\n",
              "      <td>23418.307617</td>\n",
              "      <td>3.578419e+10</td>\n",
              "    </tr>\n",
              "    <tr>\n",
              "      <th>max</th>\n",
              "      <td>67549.734375</td>\n",
              "      <td>68789.625000</td>\n",
              "      <td>66382.062500</td>\n",
              "      <td>67566.828125</td>\n",
              "      <td>67566.828125</td>\n",
              "      <td>3.509679e+11</td>\n",
              "    </tr>\n",
              "  </tbody>\n",
              "</table>\n",
              "</div>\n",
              "      <button class=\"colab-df-convert\" onclick=\"convertToInteractive('df-ed1a6597-35ef-44c4-9a31-20ab1a765b4c')\"\n",
              "              title=\"Convert this dataframe to an interactive table.\"\n",
              "              style=\"display:none;\">\n",
              "        \n",
              "  <svg xmlns=\"http://www.w3.org/2000/svg\" height=\"24px\"viewBox=\"0 0 24 24\"\n",
              "       width=\"24px\">\n",
              "    <path d=\"M0 0h24v24H0V0z\" fill=\"none\"/>\n",
              "    <path d=\"M18.56 5.44l.94 2.06.94-2.06 2.06-.94-2.06-.94-.94-2.06-.94 2.06-2.06.94zm-11 1L8.5 8.5l.94-2.06 2.06-.94-2.06-.94L8.5 2.5l-.94 2.06-2.06.94zm10 10l.94 2.06.94-2.06 2.06-.94-2.06-.94-.94-2.06-.94 2.06-2.06.94z\"/><path d=\"M17.41 7.96l-1.37-1.37c-.4-.4-.92-.59-1.43-.59-.52 0-1.04.2-1.43.59L10.3 9.45l-7.72 7.72c-.78.78-.78 2.05 0 2.83L4 21.41c.39.39.9.59 1.41.59.51 0 1.02-.2 1.41-.59l7.78-7.78 2.81-2.81c.8-.78.8-2.07 0-2.86zM5.41 20L4 18.59l7.72-7.72 1.47 1.35L5.41 20z\"/>\n",
              "  </svg>\n",
              "      </button>\n",
              "      \n",
              "  <style>\n",
              "    .colab-df-container {\n",
              "      display:flex;\n",
              "      flex-wrap:wrap;\n",
              "      gap: 12px;\n",
              "    }\n",
              "\n",
              "    .colab-df-convert {\n",
              "      background-color: #E8F0FE;\n",
              "      border: none;\n",
              "      border-radius: 50%;\n",
              "      cursor: pointer;\n",
              "      display: none;\n",
              "      fill: #1967D2;\n",
              "      height: 32px;\n",
              "      padding: 0 0 0 0;\n",
              "      width: 32px;\n",
              "    }\n",
              "\n",
              "    .colab-df-convert:hover {\n",
              "      background-color: #E2EBFA;\n",
              "      box-shadow: 0px 1px 2px rgba(60, 64, 67, 0.3), 0px 1px 3px 1px rgba(60, 64, 67, 0.15);\n",
              "      fill: #174EA6;\n",
              "    }\n",
              "\n",
              "    [theme=dark] .colab-df-convert {\n",
              "      background-color: #3B4455;\n",
              "      fill: #D2E3FC;\n",
              "    }\n",
              "\n",
              "    [theme=dark] .colab-df-convert:hover {\n",
              "      background-color: #434B5C;\n",
              "      box-shadow: 0px 1px 3px 1px rgba(0, 0, 0, 0.15);\n",
              "      filter: drop-shadow(0px 1px 2px rgba(0, 0, 0, 0.3));\n",
              "      fill: #FFFFFF;\n",
              "    }\n",
              "  </style>\n",
              "\n",
              "      <script>\n",
              "        const buttonEl =\n",
              "          document.querySelector('#df-ed1a6597-35ef-44c4-9a31-20ab1a765b4c button.colab-df-convert');\n",
              "        buttonEl.style.display =\n",
              "          google.colab.kernel.accessAllowed ? 'block' : 'none';\n",
              "\n",
              "        async function convertToInteractive(key) {\n",
              "          const element = document.querySelector('#df-ed1a6597-35ef-44c4-9a31-20ab1a765b4c');\n",
              "          const dataTable =\n",
              "            await google.colab.kernel.invokeFunction('convertToInteractive',\n",
              "                                                     [key], {});\n",
              "          if (!dataTable) return;\n",
              "\n",
              "          const docLinkHtml = 'Like what you see? Visit the ' +\n",
              "            '<a target=\"_blank\" href=https://colab.research.google.com/notebooks/data_table.ipynb>data table notebook</a>'\n",
              "            + ' to learn more about interactive tables.';\n",
              "          element.innerHTML = '';\n",
              "          dataTable['output_type'] = 'display_data';\n",
              "          await google.colab.output.renderOutput(dataTable, element);\n",
              "          const docLink = document.createElement('div');\n",
              "          docLink.innerHTML = docLinkHtml;\n",
              "          element.appendChild(docLink);\n",
              "        }\n",
              "      </script>\n",
              "    </div>\n",
              "  </div>\n",
              "  "
            ],
            "text/plain": [
              "               Open          High  ...     Adj Close        Volume\n",
              "count   1518.000000   1518.000000  ...   1518.000000  1.518000e+03\n",
              "mean   18215.372560  18712.187936  ...  18238.024696  2.520617e+10\n",
              "std    17531.410566  18013.538524  ...  17538.465412  2.099226e+10\n",
              "min     3236.274658   3275.377930  ...   3236.761719  2.923670e+09\n",
              "25%     7187.550171   7324.363403  ...   7189.858277  7.736592e+09\n",
              "50%     9523.907226   9700.821778  ...   9525.557129  2.124644e+10\n",
              "75%    23213.368652  23965.843262  ...  23418.307617  3.578419e+10\n",
              "max    67549.734375  68789.625000  ...  67566.828125  3.509679e+11\n",
              "\n",
              "[8 rows x 6 columns]"
            ]
          },
          "metadata": {},
          "execution_count": 5
        }
      ]
    },
    {
      "cell_type": "code",
      "source": [
        "##Volume outlier for BTC-USD this line is optional\n",
        "df[\"volume_outlayer\"] = np.where(df[\"Volume\"] == df[\"Volume\"].max(),df[\"Volume\"],0)\n",
        "# Ploting the time series and volume\n",
        "# https://wavedatalab.github.io/datawithpython/timeseries.html\n",
        "top = plt.subplot2grid((4,4), (0, 0), rowspan=3, colspan=4)\n",
        "top.plot(df.index, df[\"Close\"])\n",
        "plt.title('Price and Volume of Bitcoin from 2018 to 2022')\n",
        "plt.ylabel('USD')\n",
        "bottom = plt.subplot2grid((4,4), (3,0), rowspan=1, colspan=4)\n",
        "bottom.bar(df.index, df['Volume'])\n",
        "bottom.scatter(df.index, df['volume_outlayer'],color=\"red\")\n",
        "plt.ylabel('Volume 10e11')\n",
        "\n",
        "plt.gcf().set_size_inches(15,8)"
      ],
      "metadata": {
        "id": "HSt7HXVkch15",
        "colab": {
          "base_uri": "https://localhost:8080/",
          "height": 499
        },
        "outputId": "b72f0d01-7feb-467c-8d25-e4e595c26e16"
      },
      "execution_count": null,
      "outputs": [
        {
          "output_type": "display_data",
          "data": {
            "image/png": "[encoded data removed]",
            "text/plain": [
              "<Figure size 1080x576 with 2 Axes>"
            ]
          },
          "metadata": {
            "needs_background": "light"
          }
        }
      ]
    }
  ],
  "metadata": {
    "colab": {
      "name": "1_data_exploration.ipynb",
      "provenance": [],
      "include_colab_link": true
    },
    "kernelspec": {
      "display_name": "Python 3",
      "language": "python",
      "name": "python3"
    },
    "language_info": {
      "codemirror_mode": {
        "name": "ipython",
        "version": 3
      },
      "file_extension": ".py",
      "mimetype": "text/x-python",
      "name": "python",
      "nbconvert_exporter": "python",
      "pygments_lexer": "ipython3",
      "version": "3.8.10"
    }
  },
  "nbformat": 4,
  "nbformat_minor": 0
}