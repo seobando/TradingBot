{
  "cells": [
    {
      "cell_type": "markdown",
      "metadata": {
        "id": "view-in-github",
        "colab_type": "text"
      },
      "source": [
        "<a href=\"https://colab.research.google.com/github/seobando/TradingBot/blob/main/2_kpis_calculation.ipynb\" target=\"_parent\"><img src=\"https://colab.research.google.com/assets/colab-badge.svg\" alt=\"Open In Colab\"/></a>"
      ]
    },
    {
      "cell_type": "code",
      "execution_count": null,
      "metadata": {
        "colab": {
          "base_uri": "https://localhost:8080/"
        },
        "id": "eg5TG61U7YRg",
        "outputId": "1280a11a-ab96-4a7f-effb-2994e17693a7"
      },
      "outputs": [
        {
          "output_type": "stream",
          "name": "stdout",
          "text": [
            "Drive already mounted at /content/drive; to attempt to forcibly remount, call drive.mount(\"/content/drive\", force_remount=True).\n"
          ]
        }
      ],
      "source": [
        "from google.colab import drive\n",
        "drive.mount('/content/drive')"
      ]
    },
    {
      "cell_type": "code",
      "execution_count": null,
      "metadata": {
        "colab": {
          "base_uri": "https://localhost:8080/"
        },
        "id": "0ix71zGy7Teo",
        "outputId": "f36d7e69-f5e4-4cf3-ba22-b981afd0e1f7"
      },
      "outputs": [
        {
          "output_type": "stream",
          "name": "stdout",
          "text": [
            "/content/drive/MyDrive/1 Formal Training/2 Msc. Ciencia de los datos/Semestre IV/Trader\n"
          ]
        }
      ],
      "source": [
        "%cd /content/drive/MyDrive/1 Formal Training/2 Msc. Ciencia de los datos/Semestre IV/Trader"
      ]
    },
    {
      "cell_type": "code",
      "source": [
        "#!pip install pandas_ta"
      ],
      "metadata": {
        "id": "aiHO9gHmWQBi"
      },
      "execution_count": null,
      "outputs": []
    },
    {
      "cell_type": "code",
      "execution_count": null,
      "metadata": {
        "id": "VNPriyAawD9i"
      },
      "outputs": [],
      "source": [
        "import random\n",
        "import torch\n",
        "import pandas as pd\n",
        "import numpy as np\n",
        "\n",
        "from datetime import datetime\n",
        "import matplotlib.pyplot as plt\n",
        "%matplotlib inline"
      ]
    },
    {
      "cell_type": "code",
      "execution_count": null,
      "metadata": {
        "id": "xXqYyyIcxm5P"
      },
      "outputs": [],
      "source": [
        "def kpis(df,short_period,long_period,file_name):\n",
        "  # Simple Moving Average\n",
        "  df['MA_short'] = df['Close'].rolling(short_period).mean()\n",
        "  df['MA_long'] = df['Close'].rolling(long_period).mean()\n",
        "  # Exponential Moving Average\n",
        "  df['EMA_short'] = df['Close'].ewm(span=short_period, adjust=False).mean()\n",
        "  df['EMA_long'] = df['Close'].ewm(span=long_period, adjust=False).mean()\n",
        "  # Moving average convergence / divergence\n",
        "  #https://tcoil.info/compute-macd-indicator-for-stocks-with-python/\n",
        "  df['EMA_short_MACD'] = df['Close'].ewm(span=12, adjust=False).mean()\n",
        "  df['EMA_long_MACD'] = df['Close'].ewm(span=26, adjust=False).mean()\n",
        "  df['MACD'] = df['EMA_short_MACD'] - df['EMA_long_MACD']\n",
        "  df['MACD_signal'] = df['MACD'].ewm(span=9, min_periods=9).mean()\n",
        "  df['MACD_hist'] = df['MACD'] - df['MACD_signal']\n",
        "  # Bias\n",
        "  df['BIAS_short'] = (df['Close'] - df['MA_short'])/ df['MA_short'] * 100\n",
        "  df['BIAS_long'] = (df['Close'] - df['MA_long'])/ df['MA_long'] * 100\n",
        "  # Volatility Volume Ratio\n",
        "  df[\"Previous Close\"] = df[\"Close\"].shift(-1)\n",
        "  df[\"u\"] = np.where((df[\"Previous Close\"] - df[\"Close\"]) > 0, df[\"Volume\"],0)\n",
        "  df[\"d\"] = np.where((df[\"Previous Close\"] - df[\"Close\"]) < 0, df[\"Volume\"],0)\n",
        "  df[\"v\"] = np.where((df[\"Previous Close\"] - df[\"Close\"]) == 0, df[\"Volume\"],0)\n",
        "  df[\"VR\"] = (df[\"u\"].rolling(short_period).sum() + 1/2*df[\"v\"].rolling(short_period).sum())/df[\"d\"].rolling(short_period).sum() + 1/2*df[\"v\"].rolling(short_period).sum() * 100\n",
        "  # On Balance Volume\n",
        "  #https://www.investopedia.com/terms/o/onbalancevolume.asp\n",
        "  ## Rules\n",
        "  size = len(df[\"Close\"])\n",
        "  OBV = []\n",
        "  OBV.append(0)\n",
        "  for i in range(1, size):\n",
        "      #1. If today's closing price is higher than yesterday's closing price, then: Current OBV = Previous OBV + today's volume\n",
        "      if df[\"Close\"][i] > df[\"Close\"][i-1]: #If the closing price is above the prior close price \n",
        "            OBV.append(OBV[-1] + df[\"Volume\"][i]) #then: Current OBV = Previous OBV + Current Volume\n",
        "      #2. If today's closing price is lower than yesterday's closing price, then: Current OBV = Previous OBV - today's volume      \n",
        "      elif df[\"Close\"][i] < df[\"Close\"][i-1]:\n",
        "            OBV.append( OBV[-1] - df[\"Volume\"][i])\n",
        "      #3. If today's closing price equals yesterday's closing price, then: Current OBV = Previous OBV      \n",
        "      else:\n",
        "            OBV.append(OBV[-1])\n",
        "\n",
        "  df['OBV'] = OBV\n",
        "\n",
        "  # Delete NA Values\n",
        "  #df = df.dropna()\n",
        "  # Pick required fields and save\n",
        "  required_fields = ['Date', 'Open', 'High','Low', 'Close', 'Volume', 'MA_short', 'MA_long', 'EMA_short','EMA_long','EMA_short_MACD','EMA_long_MACD', 'MACD','MACD_signal','MACD_hist', 'BIAS_short', 'BIAS_long', 'VR', 'OBV']\n",
        "  df[required_fields].to_csv(file_name)"
      ]
    },
    {
      "cell_type": "code",
      "execution_count": null,
      "metadata": {
        "id": "ledu5dlgw5IP"
      },
      "outputs": [],
      "source": [
        "# Get daily data with KPIS \n",
        "long_period = 200\n",
        "short_period = 50\n",
        "frequency = \"daily\"\n",
        "#df = pd.read_csv(\"data/BTC-USD.csv\")\n",
        "#df = pd.read_csv(\"data/AAPL.csv\")\n",
        "#file_name = \"data/data_daily_AAPL.csv\"\n",
        "\n",
        "# Expected data\n",
        "datasets = [\n",
        "            \"data/data_daily_BTC-USD.csv\",\n",
        "            \"data/data_daily_AAPL.csv\",\n",
        "            \"data/data_daily_SPY.csv\",\n",
        "            \"data/data_daily_^XAU.csv\"\n",
        "            ]\n",
        "\n",
        "for d in datasets:\n",
        "  file_name = d\n",
        "  f = \"data/\" + d.split(\"_\")[2]\n",
        "  df = pd.read_csv(f)            \n",
        "  kpis(df,short_period,long_period,file_name)"
      ]
    },
    {
      "cell_type": "code",
      "execution_count": null,
      "metadata": {
        "colab": {
          "base_uri": "https://localhost:8080/"
        },
        "id": "iE3BZLUTwBOM",
        "outputId": "7889ddb6-a8f2-46f9-fb3c-520d895f48dd"
      },
      "outputs": [
        {
          "output_type": "stream",
          "name": "stdout",
          "text": [
            "------------------------ data/data_daily_BTC-USD.csv ------------------------\n",
            "<class 'pandas.core.frame.DataFrame'>\n",
            "RangeIndex: 1518 entries, 0 to 1517\n",
            "Data columns (total 20 columns):\n",
            " #   Column          Non-Null Count  Dtype  \n",
            "---  ------          --------------  -----  \n",
            " 0   Unnamed: 0      1518 non-null   int64  \n",
            " 1   Date            1518 non-null   object \n",
            " 2   Open            1518 non-null   float64\n",
            " 3   High            1518 non-null   float64\n",
            " 4   Low             1518 non-null   float64\n",
            " 5   Close           1518 non-null   float64\n",
            " 6   Volume          1518 non-null   int64  \n",
            " 7   MA_short        1469 non-null   float64\n",
            " 8   MA_long         1319 non-null   float64\n",
            " 9   EMA_short       1518 non-null   float64\n",
            " 10  EMA_long        1518 non-null   float64\n",
            " 11  EMA_short_MACD  1518 non-null   float64\n",
            " 12  EMA_long_MACD   1518 non-null   float64\n",
            " 13  MACD            1518 non-null   float64\n",
            " 14  MACD_signal     1510 non-null   float64\n",
            " 15  MACD_hist       1510 non-null   float64\n",
            " 16  BIAS_short      1469 non-null   float64\n",
            " 17  BIAS_long       1319 non-null   float64\n",
            " 18  VR              1469 non-null   float64\n",
            " 19  OBV             1518 non-null   int64  \n",
            "dtypes: float64(16), int64(3), object(1)\n",
            "memory usage: 237.3+ KB\n",
            "------------------------ data/data_daily_AAPL.csv ------------------------\n",
            "<class 'pandas.core.frame.DataFrame'>\n",
            "RangeIndex: 1259 entries, 0 to 1258\n",
            "Data columns (total 20 columns):\n",
            " #   Column          Non-Null Count  Dtype  \n",
            "---  ------          --------------  -----  \n",
            " 0   Unnamed: 0      1259 non-null   int64  \n",
            " 1   Date            1259 non-null   object \n",
            " 2   Open            1259 non-null   float64\n",
            " 3   High            1259 non-null   float64\n",
            " 4   Low             1259 non-null   float64\n",
            " 5   Close           1259 non-null   float64\n",
            " 6   Volume          1259 non-null   int64  \n",
            " 7   MA_short        1210 non-null   float64\n",
            " 8   MA_long         1060 non-null   float64\n",
            " 9   EMA_short       1259 non-null   float64\n",
            " 10  EMA_long        1259 non-null   float64\n",
            " 11  EMA_short_MACD  1259 non-null   float64\n",
            " 12  EMA_long_MACD   1259 non-null   float64\n",
            " 13  MACD            1259 non-null   float64\n",
            " 14  MACD_signal     1251 non-null   float64\n",
            " 15  MACD_hist       1251 non-null   float64\n",
            " 16  BIAS_short      1210 non-null   float64\n",
            " 17  BIAS_long       1060 non-null   float64\n",
            " 18  VR              1210 non-null   float64\n",
            " 19  OBV             1259 non-null   int64  \n",
            "dtypes: float64(16), int64(3), object(1)\n",
            "memory usage: 196.8+ KB\n",
            "------------------------ data/data_daily_SPY.csv ------------------------\n",
            "<class 'pandas.core.frame.DataFrame'>\n",
            "RangeIndex: 1259 entries, 0 to 1258\n",
            "Data columns (total 20 columns):\n",
            " #   Column          Non-Null Count  Dtype  \n",
            "---  ------          --------------  -----  \n",
            " 0   Unnamed: 0      1259 non-null   int64  \n",
            " 1   Date            1259 non-null   object \n",
            " 2   Open            1259 non-null   float64\n",
            " 3   High            1259 non-null   float64\n",
            " 4   Low             1259 non-null   float64\n",
            " 5   Close           1259 non-null   float64\n",
            " 6   Volume          1259 non-null   int64  \n",
            " 7   MA_short        1210 non-null   float64\n",
            " 8   MA_long         1060 non-null   float64\n",
            " 9   EMA_short       1259 non-null   float64\n",
            " 10  EMA_long        1259 non-null   float64\n",
            " 11  EMA_short_MACD  1259 non-null   float64\n",
            " 12  EMA_long_MACD   1259 non-null   float64\n",
            " 13  MACD            1259 non-null   float64\n",
            " 14  MACD_signal     1251 non-null   float64\n",
            " 15  MACD_hist       1251 non-null   float64\n",
            " 16  BIAS_short      1210 non-null   float64\n",
            " 17  BIAS_long       1060 non-null   float64\n",
            " 18  VR              1210 non-null   float64\n",
            " 19  OBV             1259 non-null   int64  \n",
            "dtypes: float64(16), int64(3), object(1)\n",
            "memory usage: 196.8+ KB\n",
            "------------------------ data/data_daily_^XAU.csv ------------------------\n",
            "<class 'pandas.core.frame.DataFrame'>\n",
            "RangeIndex: 1259 entries, 0 to 1258\n",
            "Data columns (total 20 columns):\n",
            " #   Column          Non-Null Count  Dtype  \n",
            "---  ------          --------------  -----  \n",
            " 0   Unnamed: 0      1259 non-null   int64  \n",
            " 1   Date            1259 non-null   object \n",
            " 2   Open            1259 non-null   float64\n",
            " 3   High            1259 non-null   float64\n",
            " 4   Low             1259 non-null   float64\n",
            " 5   Close           1259 non-null   float64\n",
            " 6   Volume          1259 non-null   int64  \n",
            " 7   MA_short        1210 non-null   float64\n",
            " 8   MA_long         1060 non-null   float64\n",
            " 9   EMA_short       1259 non-null   float64\n",
            " 10  EMA_long        1259 non-null   float64\n",
            " 11  EMA_short_MACD  1259 non-null   float64\n",
            " 12  EMA_long_MACD   1259 non-null   float64\n",
            " 13  MACD            1259 non-null   float64\n",
            " 14  MACD_signal     1251 non-null   float64\n",
            " 15  MACD_hist       1251 non-null   float64\n",
            " 16  BIAS_short      1210 non-null   float64\n",
            " 17  BIAS_long       1060 non-null   float64\n",
            " 18  VR              0 non-null      float64\n",
            " 19  OBV             1259 non-null   int64  \n",
            "dtypes: float64(16), int64(3), object(1)\n",
            "memory usage: 196.8+ KB\n"
          ]
        }
      ],
      "source": [
        "# Check data\n",
        "for i,value in enumerate(datasets):\n",
        "  print(\"------------------------\", value, \"------------------------\")\n",
        "  pd.read_csv(datasets[i]).info()"
      ]
    }
  ],
  "metadata": {
    "colab": {
      "collapsed_sections": [],
      "name": "2_kpis_calculation.ipynb",
      "provenance": [],
      "include_colab_link": true
    },
    "kernelspec": {
      "display_name": "Python 3",
      "language": "python",
      "name": "python3"
    },
    "language_info": {
      "codemirror_mode": {
        "name": "ipython",
        "version": 3
      },
      "file_extension": ".py",
      "mimetype": "text/x-python",
      "name": "python",
      "nbconvert_exporter": "python",
      "pygments_lexer": "ipython3",
      "version": "3.8.10"
    }
  },
  "nbformat": 4,
  "nbformat_minor": 0
}