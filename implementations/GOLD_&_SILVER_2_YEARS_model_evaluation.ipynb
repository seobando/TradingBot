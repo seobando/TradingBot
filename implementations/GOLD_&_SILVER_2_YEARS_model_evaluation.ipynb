{
  "cells": [
    {
      "cell_type": "markdown",
      "metadata": {
        "id": "view-in-github",
        "colab_type": "text"
      },
      "source": [
        "<a href=\"https://colab.research.google.com/github/seobando/TradingBot/blob/main/implementations/GOLD_%26_SILVER_2_YEARS_model_evaluation.ipynb\" target=\"_parent\"><img src=\"https://colab.research.google.com/assets/colab-badge.svg\" alt=\"Open In Colab\"/></a>"
      ]
    },
    {
      "cell_type": "markdown",
      "metadata": {
        "id": "NTwDFf_5wkm3"
      },
      "source": [
        "## Colab Set up"
      ]
    },
    {
      "cell_type": "code",
      "execution_count": null,
      "metadata": {
        "colab": {
          "base_uri": "https://localhost:8080/"
        },
        "id": "W_a8JpJW9qfB",
        "outputId": "f74cad9b-e095-4f12-e8e6-3d7694b65df7"
      },
      "outputs": [
        {
          "output_type": "stream",
          "name": "stdout",
          "text": [
            "Mounted at /content/drive\n"
          ]
        }
      ],
      "source": [
        "from google.colab import drive\n",
        "drive.mount('/content/drive')"
      ]
    },
    {
      "cell_type": "code",
      "execution_count": null,
      "metadata": {
        "colab": {
          "base_uri": "https://localhost:8080/"
        },
        "id": "uA5zYRtn9ofQ",
        "outputId": "1bac28f5-14fd-45b4-b2e0-af1075a86ea9"
      },
      "outputs": [
        {
          "output_type": "stream",
          "name": "stdout",
          "text": [
            "/content/drive/MyDrive/1 Formal Training/2 Msc. Ciencia de los datos/Semestre IV/Trader\n"
          ]
        }
      ],
      "source": [
        "%cd /content/drive/MyDrive/1 Formal Training/2 Msc. Ciencia de los datos/Semestre IV/Trader"
      ]
    },
    {
      "cell_type": "markdown",
      "metadata": {
        "id": "s2FmhmbK1OTY"
      },
      "source": [
        "## Libraries"
      ]
    },
    {
      "cell_type": "code",
      "execution_count": null,
      "metadata": {
        "id": "NI0IWdVQ1ODg"
      },
      "outputs": [],
      "source": [
        "import torch\n",
        "import random\n",
        "import numpy as np\n",
        "import pandas as pd\n",
        "from env import environment\n",
        "import time\n",
        "from datetime import datetime\n",
        "from mpl_toolkits import mplot3d\n",
        "from collections import deque\n",
        "from ddpg_agent import Agent\n",
        "import matplotlib.pyplot as plt\n",
        "env = environment()"
      ]
    },
    {
      "cell_type": "code",
      "execution_count": null,
      "metadata": {
        "colab": {
          "base_uri": "https://localhost:8080/",
          "height": 34
        },
        "id": "8YpPg0W33a4z",
        "outputId": "55e47eb0-74f9-4f20-de3c-708f284958d0"
      },
      "outputs": [
        {
          "output_type": "display_data",
          "data": {
            "text/plain": [
              "Starting"
            ]
          },
          "metadata": {}
        }
      ],
      "source": [
        "import time\n",
        "from google.colab import output\n",
        "import IPython\n",
        "out = display(IPython.display.Pretty('Starting'), display_id=True)\n",
        "time.sleep(1)"
      ]
    },
    {
      "cell_type": "markdown",
      "metadata": {
        "id": "hnbUDGlewknH"
      },
      "source": [
        "## Define Agent"
      ]
    },
    {
      "cell_type": "code",
      "execution_count": null,
      "metadata": {
        "id": "HJZtn1DjwknJ"
      },
      "outputs": [],
      "source": [
        "def ddpg_agent(experiment,InitialBudget,state_list,df,random_seed,fc1, fc2, fc3, fc4, fc5, fc6, fc7, fc8, fc9, fc10, fc11,learning_period, update_factor,layer_type,minibatch_size):       \n",
        "\n",
        "    memory_structure = [\"Date\",\n",
        "                        #\"Open\",\n",
        "                        #\"High\",\n",
        "                        #\"Low\",\n",
        "                        \"Close\",\n",
        "                        #\"Volume\",\n",
        "                        \"BuyPrice\",\n",
        "                        \"InitialBudget\",\n",
        "                        \"Budget\",\n",
        "                        \"Action\",\n",
        "                        \"Reward\",\n",
        "                        \"Score\",\n",
        "                        \"Buying\",\n",
        "                        \"Selling\"\n",
        "                        ]\n",
        "\n",
        "    memory_test = pd.DataFrame(columns=memory_structure)  \n",
        "\n",
        "    monitoring_list = [\"Date\",\n",
        "                      #\"Open\"\n",
        "                      #\"High\",\n",
        "                      #\"Low\",\n",
        "                      \"Close\",\n",
        "                      #\"Volume\"\n",
        "                      ]\n",
        "\n",
        "    possibilities = {0:\"Hold\",1:\"Buy\",2:\"Sell\"} \n",
        "    set_size = 3\n",
        "    n_episodes = 25\n",
        "    num_agents = 1\n",
        "    action_size = 3\n",
        "    state_size = len(state_list)\n",
        "    print_every = 1\n",
        "    deque_size = 10\n",
        "    scores_deque = deque(maxlen=deque_size)\n",
        "    duration_deque = deque(maxlen=deque_size)\n",
        "    performance_deque = deque(maxlen=deque_size)\n",
        "    global_score = []\n",
        "    size = len(df.index)\n",
        "    max_t = len(df.index)\n",
        "    reward = 0\n",
        "    average_score = 0\n",
        "    average_performance = 0\n",
        "    average_duration = 0  \n",
        "\n",
        "    # Initialize agent\n",
        "    agent = Agent(state_size, \n",
        "                action_size, \n",
        "                random_seed,\n",
        "                fc1, fc2, fc3, fc4, fc5, fc6, fc7, fc8, fc9, fc10, fc11,\n",
        "                learning_period, update_factor,\n",
        "                layer_type,\n",
        "                minibatch_size  \n",
        "                )\n",
        "    \n",
        "    agent.actor_local.load_state_dict(torch.load('checkpoint_actor.pth'))\n",
        "    agent.critic_local.load_state_dict(torch.load('checkpoint_critic.pth'))\n",
        "\n",
        "    done = False\n",
        "    Budget = InitialBudget\n",
        "    BuyPrice = 0\n",
        "\n",
        "    scores = np.zeros(num_agents)\n",
        "    t = 0\n",
        "    max_t = len(df.index)\n",
        "    average_score = 0\n",
        "    reward = 0\n",
        "\n",
        "    start_time = time.time()\n",
        "\n",
        "    print(\"max_t: \",max_t)\n",
        "\n",
        "    while True:\n",
        "\n",
        "        price = df[\"Close\"].iloc[t]\n",
        "        date = df[\"Date\"].iloc[t]\n",
        "        state = env.row_values(df,t,state_list,num_agents,state_size)\n",
        "        actions = agent.act(state)\n",
        "        reward,done,action,BuyPrice,Budget = env.step(done,reward,actions,price,BuyPrice,Budget,InitialBudget)      \n",
        "        scores += reward\n",
        "\n",
        "        # Game Pass\n",
        "        if t+1 >= max_t:\n",
        "            break    \n",
        "        #--------\n",
        "        # Monitoring    \n",
        "        memory_list = []\n",
        "        memory_list = df.iloc[t][monitoring_list].values.flatten().tolist()\n",
        "        memory_list.append(BuyPrice)\n",
        "        memory_list.append(InitialBudget)\n",
        "        memory_list.append(Budget) \n",
        "        memory_list.append(possibilities.get(action))\n",
        "        memory_list.append(reward)\n",
        "        memory_list.append(np.mean(scores))\n",
        "\n",
        "        # Save Buying actions\n",
        "        if action == 1:\n",
        "          memory_list.append(price)\n",
        "        else:\n",
        "          memory_list.append(np.nan) \n",
        "        \n",
        "        # Save Selling actions\n",
        "        if action == 2:\n",
        "          memory_list.append(price)\n",
        "        else:\n",
        "          memory_list.append(np.nan) \n",
        "\n",
        "        memory_test = memory_test.append(pd.DataFrame([memory_list],columns=memory_structure))             \n",
        "        #--------\n",
        "        next_state = env.row_values(df,t+1,state_list,num_agents,state_size)    \n",
        "        agent.step(state, actions, reward, next_state, done,t,minibatch_size)  \n",
        "        t+=1\n",
        "\n",
        "        # Game Lose\n",
        "        if done:\n",
        "            break                          \n",
        "\n",
        "        # TEST\n",
        "        performance = round(Budget/InitialBudget-1,2)    \n",
        "        out.update(IPython.display.Pretty(\"Experiment: {experiment},date:  {date}, action: {action}, score: {score}, steps: {steps}, budget: {budget}, Performance: {performance}\".format(experiment = experiment, date = date, action = possibilities[action] , score = round(np.mean(scores),2), steps = t, budget = round(Budget,2), performance = performance)))\n",
        "        time.sleep(1)       \n",
        "\n",
        "    end_time = time.time()        \n",
        "    duration = end_time - start_time        \n",
        "        \n",
        "    performance = round(Budget/InitialBudget-1,2) \n",
        "\n",
        "    print('\\rTotal score: {:.2f}\\tProgres: {:.2f}\\tTime: {:.2f}\\tInitial Budget: {:.2f}\\tFinal Budget: {:.2f}\\tPerformance: {:.2f}'.format(np.mean(scores),t/size,duration,InitialBudget,Budget,performance))\n",
        "    \n",
        "    return memory_test"
      ]
    },
    {
      "cell_type": "markdown",
      "metadata": {
        "id": "7TYYNBbMwknM"
      },
      "source": [
        "## Load Data"
      ]
    },
    {
      "cell_type": "code",
      "execution_count": null,
      "metadata": {
        "id": "sVluzMlnwknP"
      },
      "outputs": [],
      "source": [
        "experiments = pd.read_csv(\"data/experiment.csv\").drop(\"Unnamed: 0\",axis=1)\n",
        "number_experiments = 1\n",
        "\n",
        "dataset = \"data/data_daily_interpreted_^XAU.csv\"\n",
        "data = pd.read_csv(dataset)\n",
        "df = data[data[\"Date\"]>= \"2020-01-01\"]"
      ]
    },
    {
      "cell_type": "markdown",
      "metadata": {
        "id": "rOVByCU7wknQ"
      },
      "source": [
        "## Implement Agent"
      ]
    },
    {
      "cell_type": "code",
      "execution_count": null,
      "metadata": {
        "colab": {
          "base_uri": "https://localhost:8080/",
          "height": 69
        },
        "id": "EqbMCFwjpbza",
        "outputId": "bb66eca2-64f9-43ba-8eb3-e41d2e6abe02"
      },
      "outputs": [
        {
          "output_type": "stream",
          "name": "stdout",
          "text": [
            "max_t:  514\n"
          ]
        },
        {
          "output_type": "display_data",
          "data": {
            "text/plain": [
              "Experiment: 26,date:  2022-01-12, action: Hold, score: -439.23, steps: 513, budget: 1624.61, Performance: -0.03"
            ]
          },
          "metadata": {}
        },
        {
          "output_type": "stream",
          "name": "stdout",
          "text": [
            "\rTotal score: -440.23\tProgres: 1.00\tTime: 519.36\tInitial Budget: 1670.90\tFinal Budget: 1624.61\tPerformance: -0.03\n"
          ]
        }
      ],
      "source": [
        "memory_structure = [\"Date\",\n",
        "                    #\"Open\",\n",
        "                    #\"High\",\n",
        "                    #\"Low\",\n",
        "                    \"Close\",\n",
        "                    #\"Volume\",\n",
        "                    \"BuyPrice\",\n",
        "                    \"InitialBudget\",\n",
        "                    \"Budget\",\n",
        "                    \"Action\",\n",
        "                    \"Reward\",\n",
        "                    \"Score\",\n",
        "                    \"Buying\",\n",
        "                    \"Selling\"\n",
        "                    ]\n",
        "\n",
        "memory_test = pd.DataFrame(columns=memory_structure)  \n",
        "\n",
        "\n",
        "kpis = [\"Open_interpreted\",\n",
        "        \"High_interpreted\",\n",
        "        \"Low_interpreted\",\n",
        "        \"MA_short_interpreted\",\n",
        "        \"MA_long_interpreted\",\n",
        "        \"EMA_short_interpreted\",\n",
        "        \"EMA_long_interpreted\",\n",
        "        \"MACD_interpreted\",\n",
        "        \"BIAS_short_interpreted\", \n",
        "        \"BIAS_long_interpreted\", \n",
        "        #\"VR\", \n",
        "        \"OBV_interpreted\"\n",
        "        ]\n",
        "    \n",
        "results_structure = [\"Experiment\",\n",
        "                     \"Avg Performance\",\n",
        "                     \"Avg Time\",\n",
        "                     \"Avg Score\"\n",
        "                    ]\n",
        "\n",
        "results = pd.DataFrame(columns=results_structure)        \n",
        "# Loop\n",
        "for i in range(number_experiments):\n",
        "\n",
        "    ## Experiment\n",
        "    experiment = experiments[\"Experiment\"].iloc[i]\n",
        "    ## KPIS\n",
        "    state_list = kpis\n",
        "    ## Nodes\n",
        "    nodes = int(experiments[\"Nodes\"].iloc[i]) \n",
        "    fc1 = nodes \n",
        "    fc2 = nodes\n",
        "    fc3 = nodes\n",
        "    fc4 = nodes\n",
        "    fc5 = nodes\n",
        "    fc6 = nodes\n",
        "    fc7 = nodes \n",
        "    fc8 = nodes\n",
        "    fc9 = nodes\n",
        "    fc10 = nodes\n",
        "    fc11 = nodes\n",
        "    ## Layers Type\n",
        "    layer_amount_type = experiments[\"Layer Amount Type\"].iloc[i]\n",
        "    ## Layer Type Critic\n",
        "    layer_type = experiments[\"Layers Type\"].iloc[i]\n",
        "                \n",
        "    if layer_type != \"Constant\":\n",
        "        if nodes == int(600):\n",
        "          fc6 = 600\n",
        "          fc7 = 500\n",
        "          fc8 = 400\n",
        "          fc9 = 300\n",
        "          fc10 = 300\n",
        "          fc11 = 300\n",
        "        else:\n",
        "          fc6 = 1024\n",
        "          fc7 = 512\n",
        "          fc8 = 256\n",
        "          fc9 = 128\n",
        "          fc10 = 128\n",
        "          fc11 = 128              \n",
        "    ## Learning Period\n",
        "    learning_period = experiments[\"Learning Period\"].iloc[i]\n",
        "    ## Update Factor \n",
        "    update_factor = experiments[\"Update Factor\"].iloc[i]\n",
        "    ## Random Seed\n",
        "    random_seed = 42\n",
        "    ## Minibatch Size\n",
        "    minibatch_size = experiments[\"Minibatch\"].iloc[i]         \n",
        "    ## Initial Budget\n",
        "    InitialBudget = df[\"High\"].max()*10\n",
        "\n",
        "    #TEST  \n",
        "    test = [\n",
        "            experiment,\n",
        "            #state_list,\n",
        "            nodes ,\n",
        "            fc1 ,\n",
        "            fc2,\n",
        "            fc3,\n",
        "            fc4,\n",
        "            fc5,\n",
        "            fc6,\n",
        "            fc7,\n",
        "            fc8,\n",
        "            fc9,\n",
        "            fc10,\n",
        "            fc11,\n",
        "            layer_amount_type,\n",
        "            layer_type,\n",
        "            learning_period,\n",
        "            update_factor,\n",
        "            random_seed,\n",
        "            minibatch_size,    \n",
        "            InitialBudget\n",
        "          ]\n",
        "\n",
        "    #print(test)      \n",
        "    #print(\"Initial Budget: \", InitialBudget)\n",
        "\n",
        "    memory_test = ddpg_agent(experiment,InitialBudget,state_list,df,random_seed,fc1, fc2, fc3, fc4, fc5, fc6, fc7, fc8, fc9, fc10, fc11,learning_period, update_factor,layer_amount_type,minibatch_size)"
      ]
    },
    {
      "cell_type": "code",
      "source": [
        "memory_test = memory_test.reset_index().drop(\"index\",axis=1)\n",
        "memory_test.to_csv(\"data/memory_test.csv\")"
      ],
      "metadata": {
        "id": "26Ey3dw4RqPj"
      },
      "execution_count": null,
      "outputs": []
    },
    {
      "cell_type": "code",
      "source": [
        "results = pd.read_csv(\"data/memory_test.csv\").drop(\"Unnamed: 0\",axis=1)\n",
        "results[\"Date\"]= results[\"Date\"].astype('datetime64[ns]')\n",
        "results = results.set_index(\"Date\")"
      ],
      "metadata": {
        "id": "JemgLGI3R5HU"
      },
      "execution_count": null,
      "outputs": []
    },
    {
      "cell_type": "markdown",
      "metadata": {
        "id": "AhQF6nI-Bpzo"
      },
      "source": [
        "## Visualization"
      ]
    },
    {
      "cell_type": "code",
      "execution_count": null,
      "metadata": {
        "id": "aQZ8runkBqHL",
        "colab": {
          "base_uri": "https://localhost:8080/",
          "height": 273
        },
        "outputId": "c876338a-711d-45a8-8e43-b5f00e9ade54"
      },
      "outputs": [
        {
          "output_type": "display_data",
          "data": {
            "image/png": "[encoded data removed]",
            "text/plain": [
              "<Figure size 1080x216 with 1 Axes>"
            ]
          },
          "metadata": {
            "needs_background": "light"
          }
        }
      ],
      "source": [
        "x = results.index\n",
        "y = results[\"Close\"]\n",
        "buy = results['Buying']\n",
        "sell = results['Selling']\n",
        "\n",
        "fig = plt.figure(figsize=(15,3))\n",
        "ax = fig.add_subplot(111)\n",
        "plt.plot(x,y, label = \"Price\")\n",
        "plt.scatter(x, buy, label='Buy', marker='^')\n",
        "plt.scatter(x, sell, label='Sell', marker='v') \n",
        "\n",
        "plt.title(\"Trading Signals for Bitcoin 2021 - 2022 \")\n",
        "plt.ylabel('USD')\n",
        "plt.xlabel('Iterations')\n",
        "plt.xticks(rotation=90)\n",
        "plt.legend()\n",
        "plt.show()"
      ]
    }
  ],
  "metadata": {
    "accelerator": "GPU",
    "colab": {
      "background_execution": "on",
      "collapsed_sections": [],
      "machine_shape": "hm",
      "name": "GOLD_&_SILVER_2_YEARS_model_evaluation.ipynb",
      "provenance": [],
      "include_colab_link": true
    },
    "kernelspec": {
      "display_name": "Python 3",
      "language": "python",
      "name": "python3"
    },
    "language_info": {
      "codemirror_mode": {
        "name": "ipython",
        "version": 3
      },
      "file_extension": ".py",
      "mimetype": "text/x-python",
      "name": "python",
      "nbconvert_exporter": "python",
      "pygments_lexer": "ipython3",
      "version": "3.8.5"
    }
  },
  "nbformat": 4,
  "nbformat_minor": 0
}